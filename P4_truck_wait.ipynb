{
 "cells": [
  {
   "cell_type": "code",
   "execution_count": 38,
   "id": "c91cf50b-700e-424f-9f44-9951af180e0f",
   "metadata": {},
   "outputs": [],
   "source": [
    "import pandas as pd\n",
    "import numpy as np\n",
    "import datetime as dt\n",
    "from datetime import date\n",
    "import os"
   ]
  },
  {
   "cell_type": "code",
   "execution_count": 44,
   "id": "310fee5a-1173-4378-b537-3fce3802bba7",
   "metadata": {},
   "outputs": [
    {
     "name": "stdout",
     "output_type": "stream",
     "text": [
      "CPU times: total: 1min 29s\n",
      "Wall time: 1min 35s\n"
     ]
    }
   ],
   "source": [
    "%%time\n",
    "# # csv paths\n",
    "trip_csv = r\"J:\\B2W\\Estimate Workbooks\\raw_truck_data\\Samsara_trips.csv\"\n",
    "# new_trip_csv = r\"C:\\Users\\will.davis\\OneDrive - Fiore & Sons, Inc\\1A Data Analysys\\P4 Truck wait times\\data\\Samara_trips_2025.csv\"\n",
    "trip_data = pd.read_csv(trip_csv)\n",
    "# trip_data = pd.read_excel(new_trip_csv)\n",
    "# trip_data = trip_data[trip_data['endAddress_name'] != \"\"]\n",
    "trip_data['wait_time'] = \"\"\n",
    "# make a list of dsates and one of vins\n",
    "date_list = trip_data['Date'].unique()\n",
    "vin_list = trip_data['Vin Number'].unique()\n",
    "df_list = []\n",
    "for vin in vin_list:\n",
    "    vin_df = trip_data[trip_data['Vin Number']==vin]\n",
    "    for day in date_list:\n",
    "        date_subset = vin_df[vin_df['Date'] == day]\n",
    "        date_subset = date_subset.reset_index()\n",
    "        # make sure that this is still in the right order to calculate\n",
    "        date_subset = date_subset.sort_values(by='start_time')\n",
    "        df_length = len(date_subset)\n",
    "        if df_length > 1:\n",
    "            for row in range(0,df_length-1):\n",
    "                current = date_subset.iloc[row]\n",
    "                next_row = date_subset.iloc[row+1]\n",
    "                if current['endAddress_name'] == next_row['startAddress_name']:\n",
    "                    wait_time = pd.to_datetime(next_row['start_time']) - pd.to_datetime(current['end_time'])\n",
    "                    # date_subset.loc[row, 'wait_time'] = wait_time.total_seconds()\n",
    "                    date_subset.loc[row, 'wait_time'] = wait_time.total_seconds() / 60 # may be computationally heavy \n",
    "            df_list.append(date_subset)\n",
    "\n",
    "\n",
    "# full_df['wait_time'] = full_df['wait_time'] / 60 # may be computationally heavy \n",
    "\n",
    "full_df = pd.concat(df_list)\n",
    "no_blank_times = full_df[full_df['wait_time'] != \"\"]\n",
    "no_blank_times = no_blank_times[no_blank_times['wait_time'] < 180]\n",
    "no_blank_times = no_blank_times[no_blank_times['wait_time'] > 10]\n",
    "pivot_table = pd.pivot_table(no_blank_times, values='wait_time', index=['endAddress_name', 'endAddress_address'], aggfunc='mean')\n",
    "\n",
    "\n",
    "# make path for each day that the data is compiled \n",
    "end_file = f'samsara_wait_times_{str(date.today())}.xlsx'\n",
    "end_path = r\"J:\\B2W\\Estimate Workbooks\\clean_truck_data_archive/{}\".format(end_file)\n",
    "# create excel for spot checks\n",
    "writer = pd.ExcelWriter(end_path, engine=\"xlsxwriter\")\n",
    "no_blank_times.to_excel(writer, sheet_name=\"full_df\")\n",
    "pivot_table.to_excel(writer, sheet_name=\"Pivot\")\n",
    "writer.close()"
   ]
  },
  {
   "cell_type": "code",
   "execution_count": 41,
   "id": "21d7ac63-89cb-4c54-a19a-d0b6b5a67c16",
   "metadata": {},
   "outputs": [
    {
     "data": {
      "text/plain": [
       "19342"
      ]
     },
     "execution_count": 41,
     "metadata": {},
     "output_type": "execute_result"
    }
   ],
   "source": [
    "len(no_blank_times)"
   ]
  },
  {
   "cell_type": "code",
   "execution_count": 42,
   "id": "2e25c3ff-d4bd-42dc-b7be-201c29e6e480",
   "metadata": {},
   "outputs": [
    {
     "data": {
      "text/plain": [
       "64907"
      ]
     },
     "execution_count": 42,
     "metadata": {},
     "output_type": "execute_result"
    }
   ],
   "source": [
    "len(full_df)"
   ]
  },
  {
   "cell_type": "code",
   "execution_count": null,
   "id": "a26e12ba-cc85-4822-8b1e-0acdb37dd3f9",
   "metadata": {},
   "outputs": [],
   "source": []
  },
  {
   "cell_type": "code",
   "execution_count": null,
   "id": "f2f1f259-a73b-4bc9-b403-748ceab229dc",
   "metadata": {},
   "outputs": [],
   "source": []
  },
  {
   "cell_type": "code",
   "execution_count": null,
   "id": "fdb8cb32-151c-47b1-b4d2-a0b5f49aacf2",
   "metadata": {},
   "outputs": [],
   "source": []
  },
  {
   "cell_type": "code",
   "execution_count": null,
   "id": "7c1bf3cc-848f-46fa-bbd5-48134273cea6",
   "metadata": {},
   "outputs": [],
   "source": []
  },
  {
   "cell_type": "code",
   "execution_count": 32,
   "id": "addc9803-47a1-4860-90ad-e07486b485a0",
   "metadata": {},
   "outputs": [],
   "source": [
    "# make path for each day that the data is compiled \n",
    "end_file = f'samsara_wait_times_{str(date.today())}.xlsx'\n",
    "end_path = r\"C:\\Users\\will.davis\\OneDrive - Fiore & Sons, Inc\\1A Data Analysys\\P4 Truck wait times\\generated data\\{}\".format(end_file)\n",
    "end_path\n",
    "# create excel for spot checks\n",
    "writer = pd.ExcelWriter(end_path, engine=\"xlsxwriter\")\n",
    "no_blank_times.to_excel(writer, sheet_name=\"full_df\")\n",
    "pivot_table.to_excel(writer, sheet_name=\"Pivot\")\n",
    "writer.close()"
   ]
  },
  {
   "cell_type": "code",
   "execution_count": 31,
   "id": "28f189d3-10ff-4bbb-ae33-326dd2bf995c",
   "metadata": {},
   "outputs": [
    {
     "name": "stdout",
     "output_type": "stream",
     "text": [
      "CPU times: total: 54.9 s\n",
      "Wall time: 56.6 s\n"
     ]
    }
   ],
   "source": [
    "%%time\n",
    "# ***TRy to speed this operatio***\n",
    "\n",
    "new_trip_csv = r\"C:\\Users\\will.davis\\OneDrive - Fiore & Sons, Inc\\1A Data Analysys\\P4 Truck wait times\\data\\Samara_trips_2025.xlsx\"\n",
    "trip_data = pd.read_excel(new_trip_csv)\n",
    "# trip_data = trip_data[trip_data['endAddress_name'] != \"\"]\n",
    "trip_data['wait_time'] = \"\"\n",
    "# sort data set \n",
    "sorted_set = trip_data.sort_values(by=[\"Vin Number\",\"Date\",\"start_time\"])\n",
    "\n",
    "df_length = len(sorted_set)\n",
    "for row in range(0,df_length-1):\n",
    "    current = sorted_set.iloc[row]\n",
    "    next_row = sorted_set.iloc[row+1]\n",
    "    if (current[\"Vin Number\"] == next_row[\"Vin Number\"]) & (current['endAddress_name'] == next_row['startAddress_name']) & (current[\"Date\"] == next_row[\"Date\"]):\n",
    "        wait_time = pd.to_datetime(next_row['start_time']) - pd.to_datetime(current['end_time'])\n",
    "        sorted_set.loc[row, 'wait_time'] = wait_time.total_seconds() / 60 # may be computationally heavy \n",
    "\n",
    "\n",
    "no_blank_times = sorted_set[sorted_set['wait_time'] != \"\"]\n",
    "no_blank_times = no_blank_times[no_blank_times['wait_time'] < 180]\n",
    "no_blank_times = no_blank_times[no_blank_times['wait_time'] > 10]\n",
    "pivot_table = pd.pivot_table(no_blank_times, values='wait_time', index='endAddress_name', aggfunc='mean')\n",
    "\n",
    "#wow this is 5-10 seconds slower lol "
   ]
  },
  {
   "cell_type": "code",
   "execution_count": 6,
   "id": "e139586b-8e5b-400f-a42a-245e1633fdb0",
   "metadata": {},
   "outputs": [
    {
     "data": {
      "text/plain": [
       "Index(['index', 'CalendarSKey', 'id', 'startMs', 'endMs', 'startLocation',\n",
       "       'endLocation', 'distanceMeters', 'fuelConsumedMl', 'tollMeters',\n",
       "       'driverId', 'codriverIds', 'startOdometer', 'endOdometer', 'assetIds',\n",
       "       'startAddress_id', 'startAddress_name', 'startAddress_address',\n",
       "       'endAddress_id', 'endAddress_name', 'endAddress_address',\n",
       "       'startCoordinates_latitude', 'startCoordinates_longitude',\n",
       "       'endCoordinates_latitude', 'endCoordinates_longitude', 'vehicle_id',\n",
       "       'start_time', 'end_time', 'Minutes', 'Gallons', 'Date', 'Miles', 'MPG',\n",
       "       'Hours', 'UT%', 'EquipmentID', 'Vin Number', 'HRRef', 'Tags',\n",
       "       'wait_time'],\n",
       "      dtype='object')"
      ]
     },
     "execution_count": 6,
     "metadata": {},
     "output_type": "execute_result"
    }
   ],
   "source": [
    "full_df.columns"
   ]
  }
 ],
 "metadata": {
  "kernelspec": {
   "display_name": "Python 3 (ipykernel)",
   "language": "python",
   "name": "python3"
  },
  "language_info": {
   "codemirror_mode": {
    "name": "ipython",
    "version": 3
   },
   "file_extension": ".py",
   "mimetype": "text/x-python",
   "name": "python",
   "nbconvert_exporter": "python",
   "pygments_lexer": "ipython3",
   "version": "3.12.7"
  }
 },
 "nbformat": 4,
 "nbformat_minor": 5
}
