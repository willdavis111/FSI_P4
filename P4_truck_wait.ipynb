{
 "cells": [
  {
   "cell_type": "code",
   "execution_count": 1,
   "id": "c91cf50b-700e-424f-9f44-9951af180e0f",
   "metadata": {},
   "outputs": [],
   "source": [
    "import pandas as pd\n",
    "import numpy as np\n",
    "import datetime as dt\n",
    "import os"
   ]
  },
  {
   "cell_type": "code",
   "execution_count": 2,
   "id": "218e94c4-73a5-4411-bdb8-507d7d5985ec",
   "metadata": {},
   "outputs": [],
   "source": [
    "# csv paths\n",
    "trip_csv = r\"C:\\Users\\will.davis\\OneDrive - Fiore & Sons, Inc\\1A Data Analysys\\P4 Truck wait times\\data\\Samsara_Trips.csv\"\n",
    "new_trip_csv = r\"C:\\Users\\will.davis\\OneDrive - Fiore & Sons, Inc\\1A Data Analysys\\P4 Truck wait times\\data\\Samara_trips_2025.xlsx\"\n",
    "trip_data = pd.read_csv(trip_csv)\n",
    "end_path = r\"C:\\Users\\will.davis\\OneDrive - Fiore & Sons, Inc\\1A Data Analysys\\P4 Truck wait times\\generated data\\samsara_wait_times.xlsx\""
   ]
  },
  {
   "cell_type": "code",
   "execution_count": 3,
   "id": "310fee5a-1173-4378-b537-3fce3802bba7",
   "metadata": {},
   "outputs": [
    {
     "name": "stdout",
     "output_type": "stream",
     "text": [
      "CPU times: total: 43.7 s\n",
      "Wall time: 45.6 s\n"
     ]
    }
   ],
   "source": [
    "%%time\n",
    "# csv paths\n",
    "trip_csv = r\"C:\\Users\\will.davis\\OneDrive - Fiore & Sons, Inc\\1A Data Analysys\\P4 Truck wait times\\data\\Samsara_Trips.csv\"\n",
    "# trip_data = pd.read_csv(trip_csv)\n",
    "trip_data = pd.read_excel(new_trip_csv)\n",
    "trip_data = trip_data[trip_data['startAddress_name'] != \"\"]\n",
    "trip_data['wait_time'] = \"\"\n",
    "# make a list of dsates and one of vins\n",
    "date_list = trip_data['Date'].unique()\n",
    "vin_list = trip_data['Vin Number'].unique()\n",
    "df_list = []\n",
    "for vin in vin_list:\n",
    "    vin_df = trip_data[trip_data['Vin Number']==vin]\n",
    "    for day in date_list:\n",
    "        date_subset = vin_df[vin_df['Date'] == day]\n",
    "        date_subset = date_subset.reset_index()\n",
    "        # make sure that this is still in the right order to calculate\n",
    "        date_subset = date_subset.sort_values(by='start_time')\n",
    "        df_length = len(date_subset)\n",
    "        if df_length > 1:\n",
    "            for row in range(0,df_length-1):\n",
    "                current = date_subset.iloc[row]\n",
    "                next_row = date_subset.iloc[row+1]\n",
    "                if current['endAddress_name'] == next_row['startAddress_name']:\n",
    "                    wait_time = pd.to_datetime(next_row['start_time']) - pd.to_datetime(current['end_time'])\n",
    "                    date_subset.loc[row, 'wait_time'] = wait_time.total_seconds() / 60\n",
    "            df_list.append(date_subset)\n",
    "\n",
    "full_df = pd.concat(df_list)  \n",
    "\n",
    "no_blank_times = full_df[full_df['wait_time'] != \"\"]\n",
    "no_blank_times = no_blank_times[no_blank_times['wait_time'] < 180]\n",
    "no_blank_times = no_blank_times[no_blank_times['wait_time'] > 10]\n",
    "pivot_table = pd.pivot_table(no_blank_times, values='wait_time', index='endAddress_name', aggfunc='mean')"
   ]
  },
  {
   "cell_type": "code",
   "execution_count": 5,
   "id": "addc9803-47a1-4860-90ad-e07486b485a0",
   "metadata": {},
   "outputs": [],
   "source": [
    "# create excel for spot checks\n",
    "writer = pd.ExcelWriter(end_path, engine=\"xlsxwriter\")\n",
    "# full_df.to_excel(writer, sheet_name=\"full_df\")\n",
    "pivot_table.to_excel(writer, sheet_name=\"Pivot\")\n",
    "writer.close()"
   ]
  },
  {
   "cell_type": "code",
   "execution_count": 6,
   "id": "e139586b-8e5b-400f-a42a-245e1633fdb0",
   "metadata": {},
   "outputs": [
    {
     "data": {
      "text/plain": [
       "Index(['index', 'CalendarSKey', 'id', 'startMs', 'endMs', 'startLocation',\n",
       "       'endLocation', 'distanceMeters', 'fuelConsumedMl', 'tollMeters',\n",
       "       'driverId', 'codriverIds', 'startOdometer', 'endOdometer', 'assetIds',\n",
       "       'startAddress_id', 'startAddress_name', 'startAddress_address',\n",
       "       'endAddress_id', 'endAddress_name', 'endAddress_address',\n",
       "       'startCoordinates_latitude', 'startCoordinates_longitude',\n",
       "       'endCoordinates_latitude', 'endCoordinates_longitude', 'vehicle_id',\n",
       "       'start_time', 'end_time', 'Minutes', 'Gallons', 'Date', 'Miles', 'MPG',\n",
       "       'Hours', 'UT%', 'EquipmentID', 'Vin Number', 'HRRef', 'Tags',\n",
       "       'wait_time'],\n",
       "      dtype='object')"
      ]
     },
     "execution_count": 6,
     "metadata": {},
     "output_type": "execute_result"
    }
   ],
   "source": [
    "full_df.columns"
   ]
  },
  {
   "cell_type": "code",
   "execution_count": null,
   "id": "04d7760b-6974-484c-af04-f35f5b07ac1c",
   "metadata": {},
   "outputs": [],
   "source": [
    "# total_len = len(full_df)\n",
    "# over_3 = len(no_blank_times[no_blank_times['wait_time'] > 180])\n",
    "# not_blank = len(no_blank_times)\n",
    "# percent_wait = not_blank / total_len * 100\n",
    "# percent_o3 = over_3 / not_blank *100\n",
    "\n",
    "# print(f'there are {not_blank} rows out of {total_len}({percent_wait}%) and {percent_o3}% of those are over 3 hour waits')"
   ]
  },
  {
   "cell_type": "code",
   "execution_count": 28,
   "id": "fda7de83-58a9-4356-bdf6-637fe5a6b396",
   "metadata": {},
   "outputs": [
    {
     "name": "stdout",
     "output_type": "stream",
     "text": [
      "CPU times: total: 22.2 s\n",
      "Wall time: 22.8 s\n"
     ]
    }
   ],
   "source": [
    "%%time\n",
    "# csv paths\n",
    "trip_csv = r\"C:\\Users\\will.davis\\OneDrive - Fiore & Sons, Inc\\1A Data Analysys\\P4 Truck wait times\\data\\Samsara_Trips.csv\"\n",
    "# trip_data = pd.read_csv(trip_csv)\n",
    "trip_data = pd.read_excel(new_trip_csv)\n",
    "trip_data['wait_time'] = \"\"\n",
    "# make a list of dsates and one of vins\n",
    "date_list = trip_data['Date'].unique()\n",
    "# date_list = ['01/02/2025']\n",
    "# vin_list = ['1GT19LE79PF224344']\n",
    "vin_list = trip_data['Vin Number'].unique()\n",
    "# df_list = []\n",
    "\n",
    "vin_subsets = [trip_data[trip_data['Vin Number'] == vin] for vin in vin_list] \n",
    "date_vin_subset = [x[x['Date'] == date]\n",
    "                   for x in vin_subsets for date in date_list]\n",
    "\n",
    "\n",
    "# date_subset = "
   ]
  },
  {
   "cell_type": "code",
   "execution_count": 25,
   "id": "253e6056-e466-4714-9bcf-e2938a0ad5a3",
   "metadata": {},
   "outputs": [
    {
     "name": "stdout",
     "output_type": "stream",
     "text": [
      "143\n"
     ]
    }
   ],
   "source": [
    "print(len(vin_subsets))"
   ]
  },
  {
   "cell_type": "code",
   "execution_count": null,
   "id": "5e362d08-8213-48fe-af1d-77907cf5e4bb",
   "metadata": {},
   "outputs": [],
   "source": []
  },
  {
   "cell_type": "code",
   "execution_count": null,
   "id": "c1319751-f9b3-43dd-97a7-192109e5484b",
   "metadata": {},
   "outputs": [],
   "source": []
  },
  {
   "cell_type": "code",
   "execution_count": null,
   "id": "311df713-f849-403c-abdf-b84a204782cc",
   "metadata": {},
   "outputs": [],
   "source": []
  },
  {
   "cell_type": "code",
   "execution_count": null,
   "id": "06c6e38a-85f6-4ee8-906e-b27142d0c186",
   "metadata": {},
   "outputs": [],
   "source": []
  }
 ],
 "metadata": {
  "kernelspec": {
   "display_name": "Python 3 (ipykernel)",
   "language": "python",
   "name": "python3"
  },
  "language_info": {
   "codemirror_mode": {
    "name": "ipython",
    "version": 3
   },
   "file_extension": ".py",
   "mimetype": "text/x-python",
   "name": "python",
   "nbconvert_exporter": "python",
   "pygments_lexer": "ipython3",
   "version": "3.12.7"
  }
 },
 "nbformat": 4,
 "nbformat_minor": 5
}
