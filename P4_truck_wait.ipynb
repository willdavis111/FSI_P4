{
 "cells": [
  {
   "cell_type": "code",
   "execution_count": 3,
   "id": "c91cf50b-700e-424f-9f44-9951af180e0f",
   "metadata": {},
   "outputs": [],
   "source": [
    "import pandas as pd\n",
    "import numpy as np\n",
    "import datetime as dt\n",
    "from datetime import date\n",
    "import os"
   ]
  },
  {
   "cell_type": "code",
   "execution_count": 4,
   "id": "582ce893-4220-4888-ba3f-835413a44c48",
   "metadata": {},
   "outputs": [
    {
     "data": {
      "text/plain": [
       "'2025-03-20'"
      ]
     },
     "execution_count": 4,
     "metadata": {},
     "output_type": "execute_result"
    }
   ],
   "source": [
    "day_ran = str(date.today())\n",
    "day_ran"
   ]
  },
  {
   "cell_type": "code",
   "execution_count": null,
   "id": "5d7cd914-60e1-44e6-ad27-3b7c5468095a",
   "metadata": {},
   "outputs": [],
   "source": []
  },
  {
   "cell_type": "code",
   "execution_count": 6,
   "id": "218e94c4-73a5-4411-bdb8-507d7d5985ec",
   "metadata": {},
   "outputs": [
    {
     "data": {
      "text/plain": [
       "'C:\\\\Users\\\\will.davis\\\\OneDrive - Fiore & Sons, Inc\\\\1A Data Analysys\\\\P4 Truck wait times\\\\generated data\\\\samsara_wait_times_2025-03-20.xlsx'"
      ]
     },
     "execution_count": 6,
     "metadata": {},
     "output_type": "execute_result"
    }
   ],
   "source": [
    "# csv paths\n",
    "# trip_csv = r\"C:\\Users\\will.davis\\OneDrive - Fiore & Sons, Inc\\1A Data Analysys\\P4 Truck wait times\\data\\Samsara_Trips.csv\"\n",
    "# new_trip_csv = r\"C:\\Users\\will.davis\\OneDrive - Fiore & Sons, Inc\\1A Data Analysys\\P4 Truck wait times\\data\\Samara_trips_2025.xlsx\"\n",
    "# trip_data = pd.read_csv(trip_csv)"
   ]
  },
  {
   "cell_type": "code",
   "execution_count": 36,
   "id": "310fee5a-1173-4378-b537-3fce3802bba7",
   "metadata": {},
   "outputs": [
    {
     "name": "stdout",
     "output_type": "stream",
     "text": [
      "CPU times: total: 15.8 s\n",
      "Wall time: 16.5 s\n"
     ]
    }
   ],
   "source": [
    "%%time\n",
    "# # csv paths\n",
    "# trip_csv = r\"C:\\Users\\will.davis\\OneDrive - Fiore & Sons, Inc\\1A Data Analysys\\P4 Truck wait times\\data\\Samsara_Trips.csv\"\n",
    "new_trip_csv = r\"C:\\Users\\will.davis\\OneDrive - Fiore & Sons, Inc\\1A Data Analysys\\P4 Truck wait times\\data\\Samara_trips_2025.csv\"\n",
    "trip_data = pd.read_csv(new_trip_csv)\n",
    "# trip_data = pd.read_excel(new_trip_csv)\n",
    "# trip_data = trip_data[trip_data['endAddress_name'] != \"\"]\n",
    "trip_data['wait_time'] = \"\"\n",
    "# make a list of dsates and one of vins\n",
    "date_list = trip_data['Date'].unique()\n",
    "vin_list = trip_data['Vin Number'].unique()\n",
    "df_list = []\n",
    "for vin in vin_list:\n",
    "    vin_df = trip_data[trip_data['Vin Number']==vin]\n",
    "    for day in date_list:\n",
    "        date_subset = vin_df[vin_df['Date'] == day]\n",
    "        date_subset = date_subset.reset_index()\n",
    "        # make sure that this is still in the right order to calculate\n",
    "        date_subset = date_subset.sort_values(by='start_time')\n",
    "        df_length = len(date_subset)\n",
    "        if df_length > 1:\n",
    "            for row in range(0,df_length-1):\n",
    "                current = date_subset.iloc[row]\n",
    "                next_row = date_subset.iloc[row+1]\n",
    "                if current['endAddress_name'] == next_row['startAddress_name']:\n",
    "                    wait_time = pd.to_datetime(next_row['start_time']) - pd.to_datetime(current['end_time'])\n",
    "                    # date_subset.loc[row, 'wait_time'] = wait_time.total_seconds()\n",
    "                    date_subset.loc[row, 'wait_time'] = wait_time.total_seconds() / 60 # may be computationally heavy \n",
    "            df_list.append(date_subset)\n",
    "\n",
    "\n",
    "# full_df['wait_time'] = full_df['wait_time'] / 60 # may be computationally heavy \n",
    "\n",
    "full_df = pd.concat(df_list)\n",
    "no_blank_times = full_df[full_df['wait_time'] != \"\"]\n",
    "no_blank_times = no_blank_times[no_blank_times['wait_time'] < 180]\n",
    "no_blank_times = no_blank_times[no_blank_times['wait_time'] > 10]\n",
    "pivot_table = pd.pivot_table(no_blank_times, values='wait_time', index='endAddress_name', aggfunc='mean')"
   ]
  },
  {
   "cell_type": "code",
   "execution_count": 32,
   "id": "addc9803-47a1-4860-90ad-e07486b485a0",
   "metadata": {},
   "outputs": [],
   "source": [
    "# make path for each day that the data is compiled \n",
    "end_file = f'samsara_wait_times_{str(date.today())}.xlsx'\n",
    "end_path = r\"C:\\Users\\will.davis\\OneDrive - Fiore & Sons, Inc\\1A Data Analysys\\P4 Truck wait times\\generated data\\{}\".format(end_file)\n",
    "end_path\n",
    "# create excel for spot checks\n",
    "writer = pd.ExcelWriter(end_path, engine=\"xlsxwriter\")\n",
    "no_blank_times.to_excel(writer, sheet_name=\"full_df\")\n",
    "pivot_table.to_excel(writer, sheet_name=\"Pivot\")\n",
    "writer.close()"
   ]
  },
  {
   "cell_type": "code",
   "execution_count": 31,
   "id": "28f189d3-10ff-4bbb-ae33-326dd2bf995c",
   "metadata": {},
   "outputs": [
    {
     "name": "stdout",
     "output_type": "stream",
     "text": [
      "CPU times: total: 54.9 s\n",
      "Wall time: 56.6 s\n"
     ]
    }
   ],
   "source": [
    "%%time\n",
    "# ***TRy to speed this operatio***\n",
    "\n",
    "new_trip_csv = r\"C:\\Users\\will.davis\\OneDrive - Fiore & Sons, Inc\\1A Data Analysys\\P4 Truck wait times\\data\\Samara_trips_2025.xlsx\"\n",
    "trip_data = pd.read_excel(new_trip_csv)\n",
    "# trip_data = trip_data[trip_data['endAddress_name'] != \"\"]\n",
    "trip_data['wait_time'] = \"\"\n",
    "# sort data set \n",
    "sorted_set = trip_data.sort_values(by=[\"Vin Number\",\"Date\",\"start_time\"])\n",
    "\n",
    "df_length = len(sorted_set)\n",
    "for row in range(0,df_length-1):\n",
    "    current = sorted_set.iloc[row]\n",
    "    next_row = sorted_set.iloc[row+1]\n",
    "    if (current[\"Vin Number\"] == next_row[\"Vin Number\"]) & (current['endAddress_name'] == next_row['startAddress_name']) & (current[\"Date\"] == next_row[\"Date\"]):\n",
    "        wait_time = pd.to_datetime(next_row['start_time']) - pd.to_datetime(current['end_time'])\n",
    "        sorted_set.loc[row, 'wait_time'] = wait_time.total_seconds() / 60 # may be computationally heavy \n",
    "\n",
    "\n",
    "no_blank_times = sorted_set[sorted_set['wait_time'] != \"\"]\n",
    "no_blank_times = no_blank_times[no_blank_times['wait_time'] < 180]\n",
    "no_blank_times = no_blank_times[no_blank_times['wait_time'] > 10]\n",
    "pivot_table = pd.pivot_table(no_blank_times, values='wait_time', index='endAddress_name', aggfunc='mean')\n",
    "\n",
    "#wow this is 5-10 seconds slower lol "
   ]
  },
  {
   "cell_type": "code",
   "execution_count": null,
   "id": "02790264-5412-4ae4-b9a0-d367898d3e12",
   "metadata": {},
   "outputs": [],
   "source": []
  },
  {
   "cell_type": "code",
   "execution_count": null,
   "id": "ff83078d-58a6-41eb-8a78-823164257220",
   "metadata": {},
   "outputs": [],
   "source": []
  },
  {
   "cell_type": "code",
   "execution_count": null,
   "id": "09f98298-07ed-4c0d-b438-c951ef02dd17",
   "metadata": {},
   "outputs": [],
   "source": []
  },
  {
   "cell_type": "code",
   "execution_count": 6,
   "id": "e139586b-8e5b-400f-a42a-245e1633fdb0",
   "metadata": {},
   "outputs": [
    {
     "data": {
      "text/plain": [
       "Index(['index', 'CalendarSKey', 'id', 'startMs', 'endMs', 'startLocation',\n",
       "       'endLocation', 'distanceMeters', 'fuelConsumedMl', 'tollMeters',\n",
       "       'driverId', 'codriverIds', 'startOdometer', 'endOdometer', 'assetIds',\n",
       "       'startAddress_id', 'startAddress_name', 'startAddress_address',\n",
       "       'endAddress_id', 'endAddress_name', 'endAddress_address',\n",
       "       'startCoordinates_latitude', 'startCoordinates_longitude',\n",
       "       'endCoordinates_latitude', 'endCoordinates_longitude', 'vehicle_id',\n",
       "       'start_time', 'end_time', 'Minutes', 'Gallons', 'Date', 'Miles', 'MPG',\n",
       "       'Hours', 'UT%', 'EquipmentID', 'Vin Number', 'HRRef', 'Tags',\n",
       "       'wait_time'],\n",
       "      dtype='object')"
      ]
     },
     "execution_count": 6,
     "metadata": {},
     "output_type": "execute_result"
    }
   ],
   "source": [
    "full_df.columns"
   ]
  }
 ],
 "metadata": {
  "kernelspec": {
   "display_name": "Python 3 (ipykernel)",
   "language": "python",
   "name": "python3"
  },
  "language_info": {
   "codemirror_mode": {
    "name": "ipython",
    "version": 3
   },
   "file_extension": ".py",
   "mimetype": "text/x-python",
   "name": "python",
   "nbconvert_exporter": "python",
   "pygments_lexer": "ipython3",
   "version": "3.12.7"
  }
 },
 "nbformat": 4,
 "nbformat_minor": 5
}
